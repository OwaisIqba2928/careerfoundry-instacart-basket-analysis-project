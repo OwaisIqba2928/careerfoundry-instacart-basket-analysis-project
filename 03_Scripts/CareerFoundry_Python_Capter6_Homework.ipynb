{
 "cells": [
  {
   "cell_type": "markdown",
   "id": "e63b4825-846c-4468-a40a-c4ec5bf726be",
   "metadata": {},
   "source": [
    "# Step 1: Import Libraries and Set File Paths"
   ]
  },
  {
   "cell_type": "code",
   "execution_count": 33,
   "id": "a471a149-7ce5-407f-bade-cc3a598713e8",
   "metadata": {},
   "outputs": [],
   "source": [
    "# Import necessary libraries\n",
    "import pandas as pd\n",
    "import numpy as np\n",
    "import os\n",
    "\n",
    "# Define file paths based on your provided locations\n",
    "path_cleaned_data = r'C:\\Users\\Asus\\Music\\CareerFoundry_Python_Session\\products_cleaned.csv'\n",
    "path_cleaned_orders = r'C:\\Users\\Asus\\Music\\CareerFoundry_Python_Session\\cleaned_orders_data.csv'\n",
    "path_orders = r'C:\\Users\\Asus\\Music\\CareerFoundry_Python_Session\\orders.csv'\n"
   ]
  },
  {
   "cell_type": "markdown",
   "id": "75bb6d69-ade1-420e-89b6-74b34da88a76",
   "metadata": {},
   "source": [
    "# Step 2: Load Datasets into Pandas DataFrames"
   ]
  },
  {
   "cell_type": "code",
   "execution_count": 34,
   "id": "54502d0a-d3ee-4d82-a98d-0cc5c852f3ea",
   "metadata": {},
   "outputs": [
    {
     "name": "stdout",
     "output_type": "stream",
     "text": [
      "   product_id                                       product_name  aisle_id  \\\n",
      "0           1                         Chocolate Sandwich Cookies        61   \n",
      "1           2                                   All-Seasons Salt       104   \n",
      "2           3               Robust Golden Unsweetened Oolong Tea        94   \n",
      "3           4  Smart Ones Classic Favorites Mini Rigatoni Wit...        38   \n",
      "4           5                          Green Chile Anytime Sauce         5   \n",
      "\n",
      "   department_id  \n",
      "0             19  \n",
      "1             13  \n",
      "2              7  \n",
      "3              1  \n",
      "4             13  \n",
      "   order_id  user_id eval_set  order_number  order_dow  order_hour_of_day  \\\n",
      "0   2539329        1    prior             1          2                  8   \n",
      "1   2398795        1    prior             2          3                  7   \n",
      "2    473747        1    prior             3          3                 12   \n",
      "3   2254736        1    prior             4          4                  7   \n",
      "4    431534        1    prior             5          4                 15   \n",
      "\n",
      "   days_since_prior_order  product_id product_name  aisle_id  department_id  \\\n",
      "0                     NaN         NaN          NaN       NaN            NaN   \n",
      "1                    15.0         NaN          NaN       NaN            NaN   \n",
      "2                    21.0         NaN          NaN       NaN            NaN   \n",
      "3                    29.0         NaN          NaN       NaN            NaN   \n",
      "4                    28.0         NaN          NaN       NaN            NaN   \n",
      "\n",
      "  department  \n",
      "0        NaN  \n",
      "1        NaN  \n",
      "2        NaN  \n",
      "3        NaN  \n",
      "4        NaN  \n",
      "   order_id  user_id eval_set  order_number  order_dow  order_hour_of_day  \\\n",
      "0   2539329        1    prior             1          2                  8   \n",
      "1   2398795        1    prior             2          3                  7   \n",
      "2    473747        1    prior             3          3                 12   \n",
      "3   2254736        1    prior             4          4                  7   \n",
      "4    431534        1    prior             5          4                 15   \n",
      "\n",
      "   days_since_prior_order  \n",
      "0                     NaN  \n",
      "1                    15.0  \n",
      "2                    21.0  \n",
      "3                    29.0  \n",
      "4                    28.0  \n"
     ]
    }
   ],
   "source": [
    "# Load the datasets\n",
    "df_cleaned_data = pd.read_csv(path_cleaned_data, index_col=False)\n",
    "df_cleaned_orders = pd.read_csv(path_cleaned_orders, index_col=False)\n",
    "df_orders = pd.read_csv(path_orders, index_col=False)\n",
    "\n",
    "# Display first few rows to verify\n",
    "print(df_cleaned_data.head())\n",
    "print(df_cleaned_orders.head())\n",
    "print(df_orders.head())"
   ]
  },
  {
   "cell_type": "markdown",
   "id": "efe08a08-fefd-4f29-af88-ad1d1899a665",
   "metadata": {},
   "source": [
    "# Step 3: Merge Orders and Orders Products Data"
   ]
  },
  {
   "cell_type": "code",
   "execution_count": 35,
   "id": "18d0c8f3-0ed4-4958-b707-dbeffacfb1e3",
   "metadata": {},
   "outputs": [
    {
     "name": "stdout",
     "output_type": "stream",
     "text": [
      "(3421083, 18)\n"
     ]
    }
   ],
   "source": [
    "# Merging orders and orders_products_prior\n",
    "orders_products_combined = pd.merge(df_cleaned_orders, df_orders, on='order_id', how='inner')\n",
    "\n",
    "# Display shape of the merged DataFrame\n",
    "print(orders_products_combined.shape)\n"
   ]
  },
  {
   "cell_type": "markdown",
   "id": "c714eea8-6042-4e0b-90b3-d19f23646440",
   "metadata": {},
   "source": [
    "# Step 4: Export the Merged File in Pickle Format"
   ]
  },
  {
   "cell_type": "code",
   "execution_count": 36,
   "id": "1245fd27-0e49-4987-bde0-1ea84af1cd5e",
   "metadata": {},
   "outputs": [],
   "source": [
    "# Export the merged DataFrame to Pickle format\n",
    "orders_products_combined.to_pickle(r'C:\\Users\\Asus\\Music\\CareerFoundry_Python_Session\\orders_products_combined.pkl')\n"
   ]
  },
  {
   "cell_type": "markdown",
   "id": "efca4328-5f5b-4d75-a05c-e6ef108ab09b",
   "metadata": {},
   "source": [
    "# Step 5: Load the Pickle File to Verify"
   ]
  },
  {
   "cell_type": "code",
   "execution_count": 37,
   "id": "193854bc-2c3e-46fb-815f-801618733d11",
   "metadata": {},
   "outputs": [
    {
     "name": "stdout",
     "output_type": "stream",
     "text": [
      "(3421083, 18)\n"
     ]
    }
   ],
   "source": [
    "# Load the Pickle file\n",
    "orders_products_combined = pd.read_pickle(r'C:\\Users\\Asus\\Music\\CareerFoundry_Python_Session\\orders_products_combined.pkl')\n",
    "\n",
    "# Display the shape of the reloaded DataFrame\n",
    "print(orders_products_combined.shape)"
   ]
  },
  {
   "cell_type": "markdown",
   "id": "ea831f54-440c-49de-bd48-22bd0e040872",
   "metadata": {},
   "source": [
    "# Step 6: Merge with the Cleaned Products Data"
   ]
  },
  {
   "cell_type": "code",
   "execution_count": 38,
   "id": "f8929141-ca53-4fad-9fdf-e061dcfaf74d",
   "metadata": {},
   "outputs": [
    {
     "name": "stdout",
     "output_type": "stream",
     "text": [
      "   order_id  user_id_x eval_set_x  order_number_x  order_dow_x  \\\n",
      "0     23391          7      prior              17            0   \n",
      "1     19256         13      prior               4            1   \n",
      "2      8382         23      prior               2            0   \n",
      "3      7099         27      prior              63            3   \n",
      "4     14400         36      prior              10            1   \n",
      "\n",
      "   order_hour_of_day_x  days_since_prior_order_x  product_id  \\\n",
      "0                   10                      28.0     23391.0   \n",
      "1                   12                       9.0     19256.0   \n",
      "2                   10                       9.0      8382.0   \n",
      "3                   10                       1.0      7099.0   \n",
      "4                   18                       1.0     14400.0   \n",
      "\n",
      "                                     product_name_x  aisle_id_x  ...  \\\n",
      "0                               Organic Fennel Bulb       100.0  ...   \n",
      "1             Belgian Chocolate Chocolate Ice Cream        37.0  ...   \n",
      "2                             Organic Tomato Bisque         1.0  ...   \n",
      "3  Sleepytime Vanilla Caffeine Free Herbal Tea Bags        94.0  ...   \n",
      "4                           Spray Gel, Citrus Scent       114.0  ...   \n",
      "\n",
      "   department user_id_y  eval_set_y order_number_y  order_dow_y  \\\n",
      "0     missing         7       prior             17            0   \n",
      "1      frozen        13       prior              4            1   \n",
      "2        deli        23       prior              2            0   \n",
      "3   beverages        27       prior             63            3   \n",
      "4   household        36       prior             10            1   \n",
      "\n",
      "   order_hour_of_day_y  days_since_prior_order_y  \\\n",
      "0                   10                      28.0   \n",
      "1                   12                       9.0   \n",
      "2                   10                       9.0   \n",
      "3                   10                       1.0   \n",
      "4                   18                       1.0   \n",
      "\n",
      "                                     product_name_y aisle_id_y  \\\n",
      "0                               Organic Fennel Bulb        100   \n",
      "1             Belgian Chocolate Chocolate Ice Cream         37   \n",
      "2                             Organic Tomato Bisque          1   \n",
      "3  Sleepytime Vanilla Caffeine Free Herbal Tea Bags         94   \n",
      "4                           Spray Gel, Citrus Scent        114   \n",
      "\n",
      "   department_id_y  \n",
      "0               21  \n",
      "1                1  \n",
      "2               20  \n",
      "3                7  \n",
      "4               17  \n",
      "\n",
      "[5 rows x 21 columns]\n"
     ]
    }
   ],
   "source": [
    "# Merging the combined orders data with cleaned products data\n",
    "ords_prods_merge = pd.merge(orders_products_combined, df_cleaned_data, on='product_id', how='inner')\n",
    "\n",
    "# Display first few rows\n",
    "print(ords_prods_merge.head())"
   ]
  },
  {
   "cell_type": "markdown",
   "id": "ebf49d12-fcf1-4bad-a7b8-ab6f7e6375dc",
   "metadata": {},
   "source": [
    "# Step 7: Check Merge Results Using a Merge Flag"
   ]
  },
  {
   "cell_type": "markdown",
   "id": "50d619f6-d6a4-4db9-9f88-5efb9b7815ec",
   "metadata": {},
   "source": [
    "# 7.1: Merge with the indicator flag"
   ]
  },
  {
   "cell_type": "code",
   "execution_count": 40,
   "id": "f735318f-8d33-43f2-87fb-70c7bddbcfb3",
   "metadata": {},
   "outputs": [
    {
     "name": "stdout",
     "output_type": "stream",
     "text": [
      "   order_id  user_id_x eval_set_x  order_number_x  order_dow_x  \\\n",
      "0     23391          7      prior              17            0   \n",
      "1     19256         13      prior               4            1   \n",
      "2      8382         23      prior               2            0   \n",
      "3      7099         27      prior              63            3   \n",
      "4     14400         36      prior              10            1   \n",
      "\n",
      "   order_hour_of_day_x  days_since_prior_order_x  product_id  \\\n",
      "0                   10                      28.0     23391.0   \n",
      "1                   12                       9.0     19256.0   \n",
      "2                   10                       9.0      8382.0   \n",
      "3                   10                       1.0      7099.0   \n",
      "4                   18                       1.0     14400.0   \n",
      "\n",
      "                                     product_name_x  aisle_id_x  ...  \\\n",
      "0                               Organic Fennel Bulb       100.0  ...   \n",
      "1             Belgian Chocolate Chocolate Ice Cream        37.0  ...   \n",
      "2                             Organic Tomato Bisque         1.0  ...   \n",
      "3  Sleepytime Vanilla Caffeine Free Herbal Tea Bags        94.0  ...   \n",
      "4                           Spray Gel, Citrus Scent       114.0  ...   \n",
      "\n",
      "   user_id_y eval_set_y  order_number_y order_dow_y  order_hour_of_day_y  \\\n",
      "0          7      prior              17           0                   10   \n",
      "1         13      prior               4           1                   12   \n",
      "2         23      prior               2           0                   10   \n",
      "3         27      prior              63           3                   10   \n",
      "4         36      prior              10           1                   18   \n",
      "\n",
      "   days_since_prior_order_y                                    product_name_y  \\\n",
      "0                      28.0                               Organic Fennel Bulb   \n",
      "1                       9.0             Belgian Chocolate Chocolate Ice Cream   \n",
      "2                       9.0                             Organic Tomato Bisque   \n",
      "3                       1.0  Sleepytime Vanilla Caffeine Free Herbal Tea Bags   \n",
      "4                       1.0                           Spray Gel, Citrus Scent   \n",
      "\n",
      "   aisle_id_y department_id_y  _merge  \n",
      "0         100              21    both  \n",
      "1          37               1    both  \n",
      "2           1              20    both  \n",
      "3          94               7    both  \n",
      "4         114              17    both  \n",
      "\n",
      "[5 rows x 22 columns]\n"
     ]
    }
   ],
   "source": [
    "# Merging orders_products_combined with cleaned products data, adding an indicator column\n",
    "ords_prods_merge = pd.merge(orders_products_combined, df_cleaned_data, on='product_id', how='inner', indicator=True)\n",
    "\n",
    "# Display the first few rows to check the '_merge' column\n",
    "print(ords_prods_merge.head())"
   ]
  },
  {
   "cell_type": "markdown",
   "id": "bc38dd21-23ed-4ad1-a4f0-0782cdd5a69f",
   "metadata": {},
   "source": [
    "# 7.2: Count the merge results"
   ]
  },
  {
   "cell_type": "code",
   "execution_count": 41,
   "id": "7577f8ac-9617-4d39-8d43-a1b9675b08df",
   "metadata": {},
   "outputs": [
    {
     "name": "stdout",
     "output_type": "stream",
     "text": [
      "_merge\n",
      "both          49688\n",
      "left_only         0\n",
      "right_only        0\n",
      "Name: count, dtype: int64\n"
     ]
    }
   ],
   "source": [
    "# Count the results from the merge flag\n",
    "print(ords_prods_merge['_merge'].value_counts())\n"
   ]
  },
  {
   "cell_type": "markdown",
   "id": "b139d60d-9e1c-4aac-a4d7-87c101d7eab0",
   "metadata": {},
   "source": [
    "# 7.3: Filter the rows based on merge type"
   ]
  },
  {
   "cell_type": "code",
   "execution_count": 42,
   "id": "5625599b-45fb-425b-934a-25ec233f96c2",
   "metadata": {},
   "outputs": [
    {
     "name": "stdout",
     "output_type": "stream",
     "text": [
      "Empty DataFrame\n",
      "Columns: [order_id, user_id_x, eval_set_x, order_number_x, order_dow_x, order_hour_of_day_x, days_since_prior_order_x, product_id, product_name_x, aisle_id_x, department_id_x, department, user_id_y, eval_set_y, order_number_y, order_dow_y, order_hour_of_day_y, days_since_prior_order_y, product_name_y, aisle_id_y, department_id_y, _merge]\n",
      "Index: []\n",
      "\n",
      "[0 rows x 22 columns]\n"
     ]
    }
   ],
   "source": [
    "left_only = ords_prods_merge[ords_prods_merge['_merge'] == 'left_only']\n",
    "print(left_only.head())"
   ]
  },
  {
   "cell_type": "markdown",
   "id": "9637067f-0b5c-42a8-aaf7-cea7b05527fc",
   "metadata": {},
   "source": [
    "# Rows that are only in the left DataFrame (orders_products_combined):"
   ]
  },
  {
   "cell_type": "code",
   "execution_count": 43,
   "id": "c063b0ce-2425-4893-91de-9b78f335cfed",
   "metadata": {},
   "outputs": [
    {
     "name": "stdout",
     "output_type": "stream",
     "text": [
      "Empty DataFrame\n",
      "Columns: [order_id, user_id_x, eval_set_x, order_number_x, order_dow_x, order_hour_of_day_x, days_since_prior_order_x, product_id, product_name_x, aisle_id_x, department_id_x, department, user_id_y, eval_set_y, order_number_y, order_dow_y, order_hour_of_day_y, days_since_prior_order_y, product_name_y, aisle_id_y, department_id_y, _merge]\n",
      "Index: []\n",
      "\n",
      "[0 rows x 22 columns]\n"
     ]
    }
   ],
   "source": [
    "left_only = ords_prods_merge[ords_prods_merge['_merge'] == 'left_only']\n",
    "print(left_only.head())"
   ]
  },
  {
   "cell_type": "markdown",
   "id": "165b358c-3e1a-4f7d-a56b-ebd10b2eb006",
   "metadata": {},
   "source": [
    "# Rows that are only in the right DataFrame (df_cleaned_data):"
   ]
  },
  {
   "cell_type": "code",
   "execution_count": 44,
   "id": "1ed1107d-bb24-4ae3-9303-6272ab5006cb",
   "metadata": {},
   "outputs": [
    {
     "name": "stdout",
     "output_type": "stream",
     "text": [
      "Empty DataFrame\n",
      "Columns: [order_id, user_id_x, eval_set_x, order_number_x, order_dow_x, order_hour_of_day_x, days_since_prior_order_x, product_id, product_name_x, aisle_id_x, department_id_x, department, user_id_y, eval_set_y, order_number_y, order_dow_y, order_hour_of_day_y, days_since_prior_order_y, product_name_y, aisle_id_y, department_id_y, _merge]\n",
      "Index: []\n",
      "\n",
      "[0 rows x 22 columns]\n"
     ]
    }
   ],
   "source": [
    "right_only = ords_prods_merge[ords_prods_merge['_merge'] == 'right_only']\n",
    "print(right_only.head())"
   ]
  },
  {
   "cell_type": "markdown",
   "id": "b5184975-9d20-47f3-b332-d1828eae9a0c",
   "metadata": {},
   "source": [
    "# Rows that are in both DataFrames:"
   ]
  },
  {
   "cell_type": "code",
   "execution_count": 45,
   "id": "c5c382e8-a389-4b94-8e1e-19d7a9b64841",
   "metadata": {},
   "outputs": [
    {
     "name": "stdout",
     "output_type": "stream",
     "text": [
      "   order_id  user_id_x eval_set_x  order_number_x  order_dow_x  \\\n",
      "0     23391          7      prior              17            0   \n",
      "1     19256         13      prior               4            1   \n",
      "2      8382         23      prior               2            0   \n",
      "3      7099         27      prior              63            3   \n",
      "4     14400         36      prior              10            1   \n",
      "\n",
      "   order_hour_of_day_x  days_since_prior_order_x  product_id  \\\n",
      "0                   10                      28.0     23391.0   \n",
      "1                   12                       9.0     19256.0   \n",
      "2                   10                       9.0      8382.0   \n",
      "3                   10                       1.0      7099.0   \n",
      "4                   18                       1.0     14400.0   \n",
      "\n",
      "                                     product_name_x  aisle_id_x  ...  \\\n",
      "0                               Organic Fennel Bulb       100.0  ...   \n",
      "1             Belgian Chocolate Chocolate Ice Cream        37.0  ...   \n",
      "2                             Organic Tomato Bisque         1.0  ...   \n",
      "3  Sleepytime Vanilla Caffeine Free Herbal Tea Bags        94.0  ...   \n",
      "4                           Spray Gel, Citrus Scent       114.0  ...   \n",
      "\n",
      "   user_id_y eval_set_y  order_number_y order_dow_y  order_hour_of_day_y  \\\n",
      "0          7      prior              17           0                   10   \n",
      "1         13      prior               4           1                   12   \n",
      "2         23      prior               2           0                   10   \n",
      "3         27      prior              63           3                   10   \n",
      "4         36      prior              10           1                   18   \n",
      "\n",
      "   days_since_prior_order_y                                    product_name_y  \\\n",
      "0                      28.0                               Organic Fennel Bulb   \n",
      "1                       9.0             Belgian Chocolate Chocolate Ice Cream   \n",
      "2                       9.0                             Organic Tomato Bisque   \n",
      "3                       1.0  Sleepytime Vanilla Caffeine Free Herbal Tea Bags   \n",
      "4                       1.0                           Spray Gel, Citrus Scent   \n",
      "\n",
      "   aisle_id_y department_id_y  _merge  \n",
      "0         100              21    both  \n",
      "1          37               1    both  \n",
      "2           1              20    both  \n",
      "3          94               7    both  \n",
      "4         114              17    both  \n",
      "\n",
      "[5 rows x 22 columns]\n"
     ]
    }
   ],
   "source": [
    "both = ords_prods_merge[ords_prods_merge['_merge'] == 'both']\n",
    "print(both.head())"
   ]
  },
  {
   "cell_type": "markdown",
   "id": "e0458a65-4864-4bd1-9c0e-8ee2e7706ddd",
   "metadata": {},
   "source": [
    "# 7.4: Remove the _merge column (optional)"
   ]
  },
  {
   "cell_type": "code",
   "execution_count": 46,
   "id": "0e5d5bdd-7a41-4314-9220-480e419e9bf6",
   "metadata": {},
   "outputs": [
    {
     "name": "stdout",
     "output_type": "stream",
     "text": [
      "   order_id  user_id_x eval_set_x  order_number_x  order_dow_x  \\\n",
      "0     23391          7      prior              17            0   \n",
      "1     19256         13      prior               4            1   \n",
      "2      8382         23      prior               2            0   \n",
      "3      7099         27      prior              63            3   \n",
      "4     14400         36      prior              10            1   \n",
      "\n",
      "   order_hour_of_day_x  days_since_prior_order_x  product_id  \\\n",
      "0                   10                      28.0     23391.0   \n",
      "1                   12                       9.0     19256.0   \n",
      "2                   10                       9.0      8382.0   \n",
      "3                   10                       1.0      7099.0   \n",
      "4                   18                       1.0     14400.0   \n",
      "\n",
      "                                     product_name_x  aisle_id_x  ...  \\\n",
      "0                               Organic Fennel Bulb       100.0  ...   \n",
      "1             Belgian Chocolate Chocolate Ice Cream        37.0  ...   \n",
      "2                             Organic Tomato Bisque         1.0  ...   \n",
      "3  Sleepytime Vanilla Caffeine Free Herbal Tea Bags        94.0  ...   \n",
      "4                           Spray Gel, Citrus Scent       114.0  ...   \n",
      "\n",
      "   department user_id_y  eval_set_y order_number_y  order_dow_y  \\\n",
      "0     missing         7       prior             17            0   \n",
      "1      frozen        13       prior              4            1   \n",
      "2        deli        23       prior              2            0   \n",
      "3   beverages        27       prior             63            3   \n",
      "4   household        36       prior             10            1   \n",
      "\n",
      "   order_hour_of_day_y  days_since_prior_order_y  \\\n",
      "0                   10                      28.0   \n",
      "1                   12                       9.0   \n",
      "2                   10                       9.0   \n",
      "3                   10                       1.0   \n",
      "4                   18                       1.0   \n",
      "\n",
      "                                     product_name_y aisle_id_y  \\\n",
      "0                               Organic Fennel Bulb        100   \n",
      "1             Belgian Chocolate Chocolate Ice Cream         37   \n",
      "2                             Organic Tomato Bisque          1   \n",
      "3  Sleepytime Vanilla Caffeine Free Herbal Tea Bags         94   \n",
      "4                           Spray Gel, Citrus Scent        114   \n",
      "\n",
      "   department_id_y  \n",
      "0               21  \n",
      "1                1  \n",
      "2               20  \n",
      "3                7  \n",
      "4               17  \n",
      "\n",
      "[5 rows x 21 columns]\n"
     ]
    }
   ],
   "source": [
    "# Drop the '_merge' column\n",
    "ords_prods_merge.drop(columns=['_merge'], inplace=True)\n",
    "\n",
    "# Verify that it has been dropped\n",
    "print(ords_prods_merge.head())"
   ]
  },
  {
   "cell_type": "markdown",
   "id": "ce1be56d-024f-4553-97d1-0b3e40405c0c",
   "metadata": {},
   "source": [
    "# Step 8: Export the Final Merged Data"
   ]
  },
  {
   "cell_type": "code",
   "execution_count": 47,
   "id": "aad1df9b-c5d0-4c66-b79d-4fe7706f2a2c",
   "metadata": {},
   "outputs": [],
   "source": [
    "# Export the final merged DataFrame as a compressed CSV\n",
    "ords_prods_merge.to_csv(r'C:\\Users\\Asus\\Music\\CareerFoundry_Python_Session\\ords_prods_merge.csv.gz', compression='gzip')"
   ]
  },
  {
   "cell_type": "markdown",
   "id": "74db39c4-3df7-490b-84f7-acbb8b718cca",
   "metadata": {},
   "source": [
    "# Step 9: Create a New Column ‘price_label’"
   ]
  },
  {
   "cell_type": "code",
   "execution_count": 48,
   "id": "7c3a8ce7-d1b4-4888-8dd1-eaaa20a94fab",
   "metadata": {},
   "outputs": [
    {
     "name": "stdout",
     "output_type": "stream",
     "text": [
      "Index(['order_id', 'user_id_x', 'eval_set_x', 'order_number_x', 'order_dow_x',\n",
      "       'order_hour_of_day_x', 'days_since_prior_order_x', 'product_id',\n",
      "       'product_name_x', 'aisle_id_x', 'department_id_x', 'department',\n",
      "       'user_id_y', 'eval_set_y', 'order_number_y', 'order_dow_y',\n",
      "       'order_hour_of_day_y', 'days_since_prior_order_y', 'product_name_y',\n",
      "       'aisle_id_y', 'department_id_y'],\n",
      "      dtype='object')\n"
     ]
    }
   ],
   "source": [
    "# Check the column names of the DataFrame\n",
    "print(ords_prods_merge.columns)\n"
   ]
  },
  {
   "cell_type": "code",
   "execution_count": 49,
   "id": "b0bca401-9de8-4ba5-b3f3-e1c0adbaf041",
   "metadata": {},
   "outputs": [
    {
     "name": "stdout",
     "output_type": "stream",
     "text": [
      "price_label\n",
      "High      26090\n",
      "Medium    13170\n",
      "Low       10428\n",
      "Name: count, dtype: int64\n"
     ]
    }
   ],
   "source": [
    "import numpy as np\n",
    "\n",
    "# Add a price column with random values for illustration\n",
    "np.random.seed(42)\n",
    "ords_prods_merge['price'] = np.random.uniform(1, 20, size=len(ords_prods_merge))\n",
    "\n",
    "# Now, create the 'price_label' column\n",
    "ords_prods_merge['price_label'] = ords_prods_merge['price'].apply(lambda x: 'High' if x > 10 else ('Low' if x < 5 else 'Medium'))\n",
    "\n",
    "# Display value counts for price_label\n",
    "print(ords_prods_merge['price_label'].value_counts())\n"
   ]
  },
  {
   "cell_type": "markdown",
   "id": "0b376ff0-01de-416d-bbaa-e8690ce00671",
   "metadata": {},
   "source": [
    "# Step 10: Identify the Busiest Day for Orders"
   ]
  },
  {
   "cell_type": "code",
   "execution_count": 50,
   "id": "630d060f-5af1-4a63-9756-1f643169feb1",
   "metadata": {},
   "outputs": [
    {
     "name": "stdout",
     "output_type": "stream",
     "text": [
      "Index(['order_id', 'user_id_x', 'eval_set_x', 'order_number_x', 'order_dow_x',\n",
      "       'order_hour_of_day_x', 'days_since_prior_order_x', 'product_id',\n",
      "       'product_name_x', 'aisle_id_x', 'department_id_x', 'department',\n",
      "       'user_id_y', 'eval_set_y', 'order_number_y', 'order_dow_y',\n",
      "       'order_hour_of_day_y', 'days_since_prior_order_y', 'product_name_y',\n",
      "       'aisle_id_y', 'department_id_y', 'price', 'price_label'],\n",
      "      dtype='object')\n"
     ]
    }
   ],
   "source": [
    "# Check the column names of the DataFrame\n",
    "print(ords_prods_merge.columns)\n"
   ]
  },
  {
   "cell_type": "code",
   "execution_count": 51,
   "id": "9ba9a926-aa91-4a26-94f4-02aa442b3624",
   "metadata": {},
   "outputs": [
    {
     "name": "stdout",
     "output_type": "stream",
     "text": [
      "busiest_day\n",
      "Other day      40940\n",
      "Busiest day     8748\n",
      "Name: count, dtype: int64\n"
     ]
    }
   ],
   "source": [
    "# Convert to a string type if needed\n",
    "ords_prods_merge['order_dow_x'] = ords_prods_merge['order_dow_x'].astype(str)\n",
    "\n",
    "# Now, run your code\n",
    "day_orders = ords_prods_merge['order_dow_x'].value_counts()\n",
    "busiest_day = day_orders.idxmax()\n",
    "\n",
    "ords_prods_merge['busiest_day'] = ords_prods_merge['order_dow_x'].apply(lambda x: 'Busiest day' if x == busiest_day else 'Other day')\n",
    "\n",
    "# Display value counts\n",
    "print(ords_prods_merge['busiest_day'].value_counts())\n"
   ]
  },
  {
   "cell_type": "markdown",
   "id": "1e1b7822-95cf-483c-a860-ab9e472135fc",
   "metadata": {},
   "source": [
    "# Final Step: Save the Updated DataFrame"
   ]
  },
  {
   "cell_type": "code",
   "execution_count": 52,
   "id": "844d8808-8af3-4947-80f6-a40d5240a1da",
   "metadata": {},
   "outputs": [],
   "source": [
    "# Save the updated DataFrame\n",
    "ords_prods_merge.to_csv(r'C:\\Users\\Asus\\Music\\CareerFoundry_Python_Session\\ords_prods_final.csv.gz', compression='gzip')\n"
   ]
  },
  {
   "cell_type": "code",
   "execution_count": null,
   "id": "d4e76060-50bd-42ee-9423-246c78d015a7",
   "metadata": {},
   "outputs": [],
   "source": []
  }
 ],
 "metadata": {
  "kernelspec": {
   "display_name": "20th Century Environment",
   "language": "python",
   "name": "20th_century"
  },
  "language_info": {
   "codemirror_mode": {
    "name": "ipython",
    "version": 3
   },
   "file_extension": ".py",
   "mimetype": "text/x-python",
   "name": "python",
   "nbconvert_exporter": "python",
   "pygments_lexer": "ipython3",
   "version": "3.12.7"
  }
 },
 "nbformat": 4,
 "nbformat_minor": 5
}
