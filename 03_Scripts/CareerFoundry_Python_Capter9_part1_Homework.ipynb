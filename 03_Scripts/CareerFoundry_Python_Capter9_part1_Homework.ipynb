{
 "cells": [
  {
   "cell_type": "markdown",
   "id": "d8b54168-6e2f-43b7-9b30-8d0defa5dae4",
   "metadata": {},
   "source": [
    "# Step 1: Create a New Notebook and Import Libraries"
   ]
  },
  {
   "cell_type": "code",
   "execution_count": 1,
   "id": "8f5d081c-2bb5-46a8-9401-e0695b5a97b2",
   "metadata": {},
   "outputs": [],
   "source": [
    "import pandas as pd\n",
    "import numpy as np\n",
    "import os\n",
    "import matplotlib.pyplot as plt\n",
    "import seaborn as sns\n",
    "import scipy"
   ]
  },
  {
   "cell_type": "markdown",
   "id": "40bad0a0-8cfb-4460-837b-0d5682d7a04d",
   "metadata": {},
   "source": [
    "# Set the correct path"
   ]
  },
  {
   "cell_type": "code",
   "execution_count": 2,
   "id": "474b142f-f44c-4af6-907f-5e3385097eaf",
   "metadata": {},
   "outputs": [],
   "source": [
    "path = r'C:\\Users\\Asus\\Music\\CareerFoundry_Python_Session'\n"
   ]
  },
  {
   "cell_type": "markdown",
   "id": "936c2cac-c35b-4499-8fea-d3e30b8f8178",
   "metadata": {},
   "source": [
    "# Import the new customer dataset as a DataFrame"
   ]
  },
  {
   "cell_type": "code",
   "execution_count": 3,
   "id": "f6cdfa88-78a9-4592-86a8-30bc34041822",
   "metadata": {},
   "outputs": [],
   "source": [
    "customers = pd.read_csv(os.path.join(path, 'Customers.csv'))"
   ]
  },
  {
   "cell_type": "markdown",
   "id": "30758342-51d1-4bed-aa8b-3cbab48c1d94",
   "metadata": {},
   "source": [
    "# Preview the newly imported DataFrame"
   ]
  },
  {
   "cell_type": "code",
   "execution_count": 4,
   "id": "0f74a820-9eba-4ed7-a81c-c9f7c70f9c07",
   "metadata": {},
   "outputs": [
    {
     "name": "stdout",
     "output_type": "stream",
     "text": [
      "   CustomerID  Gender  Age  Annual Income ($)  Spending Score (1-100)  \\\n",
      "0           1    Male   19              15000                      39   \n",
      "1           2    Male   21              35000                      81   \n",
      "2           3  Female   20              86000                       6   \n",
      "3           4  Female   23              59000                      77   \n",
      "4           5  Female   31              38000                      40   \n",
      "5           6  Female   22              58000                      76   \n",
      "6           7  Female   35              31000                       6   \n",
      "7           8  Female   23              84000                      94   \n",
      "8           9    Male   64              97000                       3   \n",
      "9          10  Female   30              98000                      72   \n",
      "\n",
      "      Profession  Work Experience  Family Size  \n",
      "0     Healthcare                1            4  \n",
      "1       Engineer                3            3  \n",
      "2       Engineer                1            1  \n",
      "3         Lawyer                0            2  \n",
      "4  Entertainment                2            6  \n",
      "5         Artist                0            2  \n",
      "6     Healthcare                1            3  \n",
      "7     Healthcare                1            3  \n",
      "8       Engineer                0            3  \n",
      "9         Artist                1            4  \n"
     ]
    }
   ],
   "source": [
    "print(customers.head(10))"
   ]
  },
  {
   "cell_type": "markdown",
   "id": "3c4c4e0c-3a4a-4771-b40d-5a65bbff6981",
   "metadata": {},
   "source": [
    "# Check data types"
   ]
  },
  {
   "cell_type": "code",
   "execution_count": 5,
   "id": "251ae771-c211-40bd-a240-6ce989016fd8",
   "metadata": {},
   "outputs": [
    {
     "name": "stdout",
     "output_type": "stream",
     "text": [
      "CustomerID                 int64\n",
      "Gender                    object\n",
      "Age                        int64\n",
      "Annual Income ($)          int64\n",
      "Spending Score (1-100)     int64\n",
      "Profession                object\n",
      "Work Experience            int64\n",
      "Family Size                int64\n",
      "dtype: object\n"
     ]
    }
   ],
   "source": [
    "# Check data types\n",
    "print(customers.dtypes)"
   ]
  },
  {
   "cell_type": "markdown",
   "id": "211e9867-9126-4f1f-b5fd-24aa4fcb1a68",
   "metadata": {},
   "source": [
    "# Renaming columns to be consistent and descriptive"
   ]
  },
  {
   "cell_type": "code",
   "execution_count": 6,
   "id": "c7d4230e-ea55-484a-9a34-3fe79ca1b21c",
   "metadata": {},
   "outputs": [],
   "source": [
    "customers.rename(columns={\n",
    "    'CustomerID': 'Customer_ID',\n",
    "    'Annual Income ($)': 'Annual_Income',\n",
    "    'Spending Score (1-100)': 'Spending_Score',\n",
    "    'Work Experience': 'Work_Experience',\n",
    "    'Family Size': 'Family_Size'\n",
    "}, inplace=True)"
   ]
  },
  {
   "cell_type": "markdown",
   "id": "78938857-4d00-4ab0-8978-23273a79683b",
   "metadata": {},
   "source": [
    "# Check the new column names to ensure changes are applied"
   ]
  },
  {
   "cell_type": "code",
   "execution_count": 7,
   "id": "83c0196c-df3b-4c4c-b914-6f87e869c053",
   "metadata": {},
   "outputs": [
    {
     "name": "stdout",
     "output_type": "stream",
     "text": [
      "Index(['Customer_ID', 'Gender', 'Age', 'Annual_Income', 'Spending_Score',\n",
      "       'Profession', 'Work_Experience', 'Family_Size'],\n",
      "      dtype='object')\n"
     ]
    }
   ],
   "source": [
    "print(customers.columns)"
   ]
  },
  {
   "cell_type": "markdown",
   "id": "6fb3593f-cbb8-4ab9-ad72-8dae02a59cf5",
   "metadata": {},
   "source": [
    "# Checking for missing values"
   ]
  },
  {
   "cell_type": "code",
   "execution_count": 10,
   "id": "f7e7b814-435f-468f-917d-e3a6bc69ecf9",
   "metadata": {},
   "outputs": [
    {
     "name": "stdout",
     "output_type": "stream",
     "text": [
      "0\n"
     ]
    }
   ],
   "source": [
    "print(customers.duplicated().sum())"
   ]
  },
  {
   "cell_type": "markdown",
   "id": "dba10c6c-82fd-46b6-8fee-8d9e81256521",
   "metadata": {},
   "source": [
    "# View descriptive statistics"
   ]
  },
  {
   "cell_type": "code",
   "execution_count": 11,
   "id": "13a67742-2902-4fca-8a73-0364cf52cd61",
   "metadata": {},
   "outputs": [
    {
     "name": "stdout",
     "output_type": "stream",
     "text": [
      "       Customer_ID          Age  Annual_Income  Spending_Score  \\\n",
      "count  2000.000000  2000.000000    2000.000000     2000.000000   \n",
      "mean   1000.500000    48.960000  110731.821500       50.962500   \n",
      "std     577.494589    28.429747   45739.536688       27.934661   \n",
      "min       1.000000     0.000000       0.000000        0.000000   \n",
      "25%     500.750000    25.000000   74572.000000       28.000000   \n",
      "50%    1000.500000    48.000000  110045.000000       50.000000   \n",
      "75%    1500.250000    73.000000  149092.750000       75.000000   \n",
      "max    2000.000000    99.000000  189974.000000      100.000000   \n",
      "\n",
      "       Work_Experience  Family_Size  \n",
      "count      2000.000000  2000.000000  \n",
      "mean          4.102500     3.768500  \n",
      "std           3.922204     1.970749  \n",
      "min           0.000000     1.000000  \n",
      "25%           1.000000     2.000000  \n",
      "50%           3.000000     4.000000  \n",
      "75%           7.000000     5.000000  \n",
      "max          17.000000     9.000000  \n"
     ]
    }
   ],
   "source": [
    "print(customers.describe())"
   ]
  },
  {
   "cell_type": "code",
   "execution_count": 12,
   "id": "8d733124-47ad-4ba6-aa16-285121ad78e4",
   "metadata": {},
   "outputs": [
    {
     "name": "stdout",
     "output_type": "stream",
     "text": [
      "Cleaned dataset saved at: C:\\Users\\Asus\\Music\\CareerFoundry_Python_Session\\cleaned_customers.csv\n"
     ]
    }
   ],
   "source": [
    "output_path = os.path.join(path, 'cleaned_customers.csv')\n",
    "customers.to_csv(output_path, index=False)\n",
    "\n",
    "print(f\"Cleaned dataset saved at: {output_path}\")"
   ]
  },
  {
   "cell_type": "code",
   "execution_count": null,
   "id": "17324e66-2b82-44bd-a971-d4229dea2a8f",
   "metadata": {},
   "outputs": [],
   "source": []
  }
 ],
 "metadata": {
  "kernelspec": {
   "display_name": "20th Century Environment",
   "language": "python",
   "name": "20th_century"
  },
  "language_info": {
   "codemirror_mode": {
    "name": "ipython",
    "version": 3
   },
   "file_extension": ".py",
   "mimetype": "text/x-python",
   "name": "python",
   "nbconvert_exporter": "python",
   "pygments_lexer": "ipython3",
   "version": "3.12.7"
  }
 },
 "nbformat": 4,
 "nbformat_minor": 5
}
