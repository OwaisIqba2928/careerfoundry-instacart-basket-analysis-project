{
 "cells": [
  {
   "cell_type": "markdown",
   "id": "d4888a98-ca1e-4a3f-af81-0dd8564c040d",
   "metadata": {},
   "source": [
    "# Step 1: Loading Data and Merging DataFrames"
   ]
  },
  {
   "cell_type": "code",
   "execution_count": 3,
   "id": "723ae7af-0901-413e-ae9c-77dfaf681dbf",
   "metadata": {},
   "outputs": [
    {
     "name": "stdout",
     "output_type": "stream",
     "text": [
      "(3421083, 18)\n"
     ]
    }
   ],
   "source": [
    "# Load the 'orders_products_combined' dataframe\n",
    "import pandas as pd\n",
    "\n",
    "orders_products_combined = pd.read_pickle('orders_products_combined.pkl')\n",
    "print(orders_products_combined.shape)"
   ]
  },
  {
   "cell_type": "code",
   "execution_count": 4,
   "id": "d9772749-911b-4a1a-b1f6-bc91278317d6",
   "metadata": {},
   "outputs": [
    {
     "name": "stdout",
     "output_type": "stream",
     "text": [
      "   order_id  user_id_x eval_set_x  order_number_x  order_dow_x  \\\n",
      "0     23391          7      prior              17            0   \n",
      "1     19256         13      prior               4            1   \n",
      "2      8382         23      prior               2            0   \n",
      "3      7099         27      prior              63            3   \n",
      "4     14400         36      prior              10            1   \n",
      "\n",
      "   order_hour_of_day_x  days_since_prior_order_x  product_id  \\\n",
      "0                   10                      28.0     23391.0   \n",
      "1                   12                       9.0     19256.0   \n",
      "2                   10                       9.0      8382.0   \n",
      "3                   10                       1.0      7099.0   \n",
      "4                   18                       1.0     14400.0   \n",
      "\n",
      "                                     product_name_x  aisle_id_x  ...  \\\n",
      "0                               Organic Fennel Bulb       100.0  ...   \n",
      "1             Belgian Chocolate Chocolate Ice Cream        37.0  ...   \n",
      "2                             Organic Tomato Bisque         1.0  ...   \n",
      "3  Sleepytime Vanilla Caffeine Free Herbal Tea Bags        94.0  ...   \n",
      "4                           Spray Gel, Citrus Scent       114.0  ...   \n",
      "\n",
      "   department user_id_y  eval_set_y order_number_y  order_dow_y  \\\n",
      "0     missing         7       prior             17            0   \n",
      "1      frozen        13       prior              4            1   \n",
      "2        deli        23       prior              2            0   \n",
      "3   beverages        27       prior             63            3   \n",
      "4   household        36       prior             10            1   \n",
      "\n",
      "   order_hour_of_day_y  days_since_prior_order_y  \\\n",
      "0                   10                      28.0   \n",
      "1                   12                       9.0   \n",
      "2                   10                       9.0   \n",
      "3                   10                       1.0   \n",
      "4                   18                       1.0   \n",
      "\n",
      "                                     product_name_y aisle_id_y  \\\n",
      "0                               Organic Fennel Bulb        100   \n",
      "1             Belgian Chocolate Chocolate Ice Cream         37   \n",
      "2                             Organic Tomato Bisque          1   \n",
      "3  Sleepytime Vanilla Caffeine Free Herbal Tea Bags         94   \n",
      "4                           Spray Gel, Citrus Scent        114   \n",
      "\n",
      "   department_id_y  \n",
      "0               21  \n",
      "1                1  \n",
      "2               20  \n",
      "3                7  \n",
      "4               17  \n",
      "\n",
      "[5 rows x 21 columns]\n"
     ]
    }
   ],
   "source": [
    "import pandas as pd\n",
    "\n",
    "# Load the df_prods DataFrame from the provided CSV file\n",
    "df_prods = pd.read_csv(r'C:\\Users\\Asus\\Music\\CareerFoundry_Python_Session\\products_cleaned.csv')\n",
    "\n",
    "# Now perform the merge\n",
    "ords_prods_merge = pd.merge(orders_products_combined, df_prods, on='product_id', how='inner')\n",
    "\n",
    "# Check the merged DataFrame\n",
    "print(ords_prods_merge.head())"
   ]
  },
  {
   "cell_type": "code",
   "execution_count": 12,
   "id": "afad5a09-c448-4432-8740-a16ab0f27fdd",
   "metadata": {},
   "outputs": [],
   "source": [
    "ords_prods_merge.to_csv('ords_prods_merge.csv', compression='gzip')"
   ]
  },
  {
   "cell_type": "markdown",
   "id": "ac3ba961-16ef-45ad-911c-29b4ad26615f",
   "metadata": {},
   "source": [
    "# Create the price_label Column"
   ]
  },
  {
   "cell_type": "code",
   "execution_count": 13,
   "id": "b4c5f0dd-0a11-4b8f-bcc4-fb45216d0e05",
   "metadata": {},
   "outputs": [],
   "source": [
    "import numpy as np\n",
    "np.random.seed(42)  # Ensuring reproducibility\n",
    "ords_prods_merge['price'] = np.random.uniform(1, 20, size=len(ords_prods_merge))\n"
   ]
  },
  {
   "cell_type": "code",
   "execution_count": 14,
   "id": "ff2382c3-f615-46c6-b174-f0f6bbbf458d",
   "metadata": {},
   "outputs": [],
   "source": [
    "ords_prods_merge['price_label'] = ords_prods_merge['price'].apply(lambda x: \n",
    "    'High' if x > 10 else ('Low' if x < 5 else 'Medium'))"
   ]
  },
  {
   "cell_type": "code",
   "execution_count": 15,
   "id": "f6c51a5b-22fa-4550-8a4c-ac6fa037cd08",
   "metadata": {},
   "outputs": [
    {
     "name": "stdout",
     "output_type": "stream",
     "text": [
      "price_label\n",
      "High      26090\n",
      "Medium    13170\n",
      "Low       10428\n",
      "Name: count, dtype: int64\n"
     ]
    }
   ],
   "source": [
    "print(ords_prods_merge['price_label'].value_counts())"
   ]
  },
  {
   "cell_type": "markdown",
   "id": "1982b1b2-df62-4920-a47f-90a299938899",
   "metadata": {},
   "source": [
    "# Step 2: Modify busiest_day to Busiest days and Add Slowest days"
   ]
  },
  {
   "cell_type": "code",
   "execution_count": 16,
   "id": "664cda7b-d9d9-4fd7-8250-4dc804bcff04",
   "metadata": {},
   "outputs": [
    {
     "name": "stdout",
     "output_type": "stream",
     "text": [
      "order_dow_x\n",
      "0    8748\n",
      "1    8492\n",
      "2    6862\n",
      "5    6583\n",
      "6    6536\n",
      "3    6349\n",
      "4    6118\n",
      "Name: count, dtype: int64\n"
     ]
    }
   ],
   "source": [
    "day_orders = ords_prods_merge['order_dow_x'].value_counts()\n",
    "print(day_orders)"
   ]
  },
  {
   "cell_type": "code",
   "execution_count": 17,
   "id": "08327986-7491-4146-aefc-965f3e438c7d",
   "metadata": {},
   "outputs": [],
   "source": [
    "busiest_days = list(day_orders.index[:2])  # Top 2 days\n",
    "slowest_days = list(day_orders.index[-2:]) # Bottom 2 days"
   ]
  },
  {
   "cell_type": "code",
   "execution_count": 18,
   "id": "31b12a63-251e-4157-97ab-a9c6aacee7a9",
   "metadata": {},
   "outputs": [],
   "source": [
    "# Create a new column busiest_days\n",
    "ords_prods_merge['busiest_days'] = ords_prods_merge['order_dow_x'].apply(lambda x: \n",
    "    'Busiest days' if x in busiest_days else \n",
    "    ('Slowest days' if x in slowest_days else 'Regular days'))"
   ]
  },
  {
   "cell_type": "code",
   "execution_count": 19,
   "id": "09a05582-077b-4542-9aac-396f12873277",
   "metadata": {},
   "outputs": [
    {
     "name": "stdout",
     "output_type": "stream",
     "text": [
      "busiest_days\n",
      "Regular days    19981\n",
      "Busiest days    17240\n",
      "Slowest days    12467\n",
      "Name: count, dtype: int64\n"
     ]
    }
   ],
   "source": [
    "print(ords_prods_merge['busiest_days'].value_counts())"
   ]
  },
  {
   "cell_type": "markdown",
   "id": "fe967cfd-ea80-4302-8d73-e196c9c3657c",
   "metadata": {},
   "source": [
    "# Step 3: Check Values for Accuracy"
   ]
  },
  {
   "cell_type": "code",
   "execution_count": 20,
   "id": "8e171bc6-ad3b-4349-a6b0-afe4c2902b15",
   "metadata": {},
   "outputs": [
    {
     "name": "stdout",
     "output_type": "stream",
     "text": [
      "   order_dow_x  busiest_days\n",
      "0            0  Busiest days\n",
      "1            1  Busiest days\n",
      "2            0  Busiest days\n",
      "3            3  Slowest days\n",
      "4            1  Busiest days\n",
      "5            1  Busiest days\n",
      "6            1  Busiest days\n",
      "7            2  Regular days\n",
      "8            1  Busiest days\n",
      "9            5  Regular days\n"
     ]
    }
   ],
   "source": [
    "print(ords_prods_merge[['order_dow_x', 'busiest_days']].head(10))"
   ]
  },
  {
   "cell_type": "markdown",
   "id": "a1664dc1-c946-451e-a98b-8ce198138a08",
   "metadata": {},
   "source": [
    "# Step 4: Create busiest_period_of_day Column"
   ]
  },
  {
   "cell_type": "code",
   "execution_count": 21,
   "id": "4e01acce-a329-49d5-b941-37aa410cc937",
   "metadata": {},
   "outputs": [],
   "source": [
    "def label_period(hour):\n",
    "    if 5 <= hour < 12:\n",
    "        return 'Morning'\n",
    "    elif 12 <= hour < 17:\n",
    "        return 'Afternoon'\n",
    "    elif 17 <= hour < 21:\n",
    "        return 'Evening'\n",
    "    else:\n",
    "        return 'Night'"
   ]
  },
  {
   "cell_type": "code",
   "execution_count": 22,
   "id": "3abab55e-6d79-4e95-85a8-f00fd8163897",
   "metadata": {},
   "outputs": [],
   "source": [
    "# Apply this function to create busiest_period_of_day:\n",
    "ords_prods_merge['busiest_period_of_day'] = ords_prods_merge['order_hour_of_day_x'].apply(label_period)"
   ]
  },
  {
   "cell_type": "code",
   "execution_count": 23,
   "id": "16ed9f17-05f3-413e-9621-a717bc9bcd40",
   "metadata": {},
   "outputs": [
    {
     "name": "stdout",
     "output_type": "stream",
     "text": [
      "busiest_period_of_day\n",
      "Afternoon    20234\n",
      "Morning      16517\n",
      "Evening       9560\n",
      "Night         3377\n",
      "Name: count, dtype: int64\n"
     ]
    }
   ],
   "source": [
    "# Verify:\n",
    "print(ords_prods_merge['busiest_period_of_day'].value_counts())"
   ]
  },
  {
   "cell_type": "markdown",
   "id": "a4f5881f-ab24-4d1f-8a49-7df84224d87d",
   "metadata": {},
   "source": [
    "# Step 5: Label the Periods Based on Order Frequency"
   ]
  },
  {
   "cell_type": "code",
   "execution_count": 24,
   "id": "e02b7305-2808-4aca-906d-6c0993bf22cd",
   "metadata": {},
   "outputs": [
    {
     "name": "stdout",
     "output_type": "stream",
     "text": [
      "busiest_period_of_day\n",
      "Afternoon    20234\n",
      "Morning      16517\n",
      "Evening       9560\n",
      "Night         3377\n",
      "Name: count, dtype: int64\n"
     ]
    }
   ],
   "source": [
    "# Count orders per period\n",
    "period_counts = ords_prods_merge['busiest_period_of_day'].value_counts()\n",
    "print(period_counts)"
   ]
  },
  {
   "cell_type": "code",
   "execution_count": 25,
   "id": "e60a6c1c-8bb5-4e9c-b819-6ad9dd56f995",
   "metadata": {},
   "outputs": [],
   "source": [
    "# Get threshold values:\n",
    "most_orders_periods = list(period_counts.index[:1])   # Highest frequency\n",
    "fewest_orders_periods = list(period_counts.index[-1:])  # Lowest frequency"
   ]
  },
  {
   "cell_type": "code",
   "execution_count": 26,
   "id": "1ad20422-b154-4430-8bd5-9e76027f32d0",
   "metadata": {},
   "outputs": [],
   "source": [
    "# Assign labels\n",
    "ords_prods_merge['busiest_period_label'] = ords_prods_merge['busiest_period_of_day'].apply(lambda x: \n",
    "    'Most orders' if x in most_orders_periods else \n",
    "    ('Fewest orders' if x in fewest_orders_periods else 'Average orders'))"
   ]
  },
  {
   "cell_type": "code",
   "execution_count": 27,
   "id": "da21829f-eea4-4df1-bfe1-09affd1aa83f",
   "metadata": {},
   "outputs": [
    {
     "name": "stdout",
     "output_type": "stream",
     "text": [
      "busiest_period_label\n",
      "Average orders    26077\n",
      "Most orders       20234\n",
      "Fewest orders      3377\n",
      "Name: count, dtype: int64\n"
     ]
    }
   ],
   "source": [
    "# Verify:\n",
    "print(ords_prods_merge['busiest_period_label'].value_counts())"
   ]
  },
  {
   "cell_type": "markdown",
   "id": "06ce08db-27eb-4503-b93e-a8f469237b77",
   "metadata": {},
   "source": [
    "# Step 6: Clean and Structure the Notebook"
   ]
  },
  {
   "cell_type": "markdown",
   "id": "e0fdbf36-f759-4ef4-8b86-be2ab1d90738",
   "metadata": {},
   "source": [
    "# Step 7: Export the DataFrame as a Pickle File"
   ]
  },
  {
   "cell_type": "code",
   "execution_count": 28,
   "id": "53a79469-c4d8-4213-ba51-e6f6e44d5336",
   "metadata": {},
   "outputs": [],
   "source": [
    "ords_prods_merge.to_pickle(r'C:\\Users\\Asus\\Music\\CareerFoundry_Python_Session\\ords_prods_final.pkl')"
   ]
  },
  {
   "cell_type": "code",
   "execution_count": 29,
   "id": "e658afd4-4e0e-4564-ac32-815b44867132",
   "metadata": {},
   "outputs": [
    {
     "name": "stdout",
     "output_type": "stream",
     "text": [
      "(49688, 26)\n"
     ]
    }
   ],
   "source": [
    "df = pd.read_pickle(r'C:\\Users\\Asus\\Music\\CareerFoundry_Python_Session\\ords_prods_final.pkl')\n",
    "print(df.shape)"
   ]
  },
  {
   "cell_type": "code",
   "execution_count": null,
   "id": "898e81e7-8938-4b66-9af1-4ec04e9df339",
   "metadata": {},
   "outputs": [],
   "source": []
  }
 ],
 "metadata": {
  "kernelspec": {
   "display_name": "20th Century Environment",
   "language": "python",
   "name": "20th_century"
  },
  "language_info": {
   "codemirror_mode": {
    "name": "ipython",
    "version": 3
   },
   "file_extension": ".py",
   "mimetype": "text/x-python",
   "name": "python",
   "nbconvert_exporter": "python",
   "pygments_lexer": "ipython3",
   "version": "3.12.7"
  }
 },
 "nbformat": 4,
 "nbformat_minor": 5
}
