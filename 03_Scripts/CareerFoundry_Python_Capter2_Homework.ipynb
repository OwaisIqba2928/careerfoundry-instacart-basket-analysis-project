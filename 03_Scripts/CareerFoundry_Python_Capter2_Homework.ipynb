{
 "cells": [
  {
   "cell_type": "markdown",
   "id": "17de7281-55d5-46b9-aa44-d3500fd027c8",
   "metadata": {},
   "source": [
    "# Importing Libraries"
   ]
  },
  {
   "cell_type": "code",
   "execution_count": 1,
   "id": "ba2ceb0b-f4fe-48c9-8a9f-0700889eee0a",
   "metadata": {},
   "outputs": [],
   "source": [
    "# Importing necessary libraries\n",
    "import pandas as pd\n",
    "import numpy as np\n",
    "import os"
   ]
  },
  {
   "cell_type": "markdown",
   "id": "07103fbc-fc4b-4b20-a359-683678dc793d",
   "metadata": {},
   "source": [
    "# Working with Python Data Types"
   ]
  },
  {
   "cell_type": "code",
   "execution_count": 2,
   "id": "013721b6-1cff-45a2-9841-c9ccacd3b3f3",
   "metadata": {},
   "outputs": [
    {
     "name": "stdout",
     "output_type": "stream",
     "text": [
      "100\n",
      "100\n",
      "100\n"
     ]
    }
   ],
   "source": [
    "# Different ways to reach a result of 100\n",
    "a = 50\n",
    "b = 50\n",
    "result1 = a + b # First way\n",
    "print(result1)\n",
    "\n",
    "c = 200\n",
    "d = 100\n",
    "result2 = c - d # Second way\n",
    "print(result2)\n",
    "\n",
    "e = 25\n",
    "f = 4\n",
    "result3 = e * f # Third way\n",
    "print(result3)"
   ]
  },
  {
   "cell_type": "markdown",
   "id": "fe6e0700-e47e-4a07-ac09-713bf45c031e",
   "metadata": {},
   "source": [
    "# Floating-Point Variables and Division"
   ]
  },
  {
   "cell_type": "code",
   "execution_count": 3,
   "id": "e06eb024-1ca3-4238-9071-9aa27ed6ad32",
   "metadata": {},
   "outputs": [
    {
     "name": "stdout",
     "output_type": "stream",
     "text": [
      "2.5\n"
     ]
    }
   ],
   "source": [
    "# Floating-point division\n",
    "x = 5.5\n",
    "y = 2.2\n",
    "result = x / y\n",
    "print(result)"
   ]
  },
  {
   "cell_type": "markdown",
   "id": "90724308-18b8-4386-a36f-4476a2b8bce3",
   "metadata": {},
   "source": [
    "# Constructing a Short Word from Strings"
   ]
  },
  {
   "cell_type": "code",
   "execution_count": 4,
   "id": "548f36ac-95a9-44ac-b116-f35344fd11ae",
   "metadata": {},
   "outputs": [
    {
     "name": "stdout",
     "output_type": "stream",
     "text": [
      "Owais Iqbal\n"
     ]
    }
   ],
   "source": [
    "# Constructing a word\n",
    "x = \"Owais \"\n",
    "y = \"Iqbal\"\n",
    "word = x + y\n",
    "print(word)"
   ]
  },
  {
   "cell_type": "markdown",
   "id": "6ba2c8f5-1756-47d6-b839-a437b5664215",
   "metadata": {},
   "source": [
    "# Constructing Sentences from Strings"
   ]
  },
  {
   "cell_type": "code",
   "execution_count": 5,
   "id": "f72eebc0-7e36-4746-9a32-8999e00cb1a0",
   "metadata": {},
   "outputs": [
    {
     "name": "stdout",
     "output_type": "stream",
     "text": [
      "I am learning Python.\n",
      "This is fun!\n"
     ]
    }
   ],
   "source": [
    "# Constructing sentences\n",
    "x = \"I am learning\"\n",
    "y = \" Python.\"\n",
    "sentence1 = x + y\n",
    "print(sentence1)\n",
    "\n",
    "d = \"This is\"\n",
    "g = \" fun!\"\n",
    "sentence2 = d + g\n",
    "print(sentence2)"
   ]
  },
  {
   "cell_type": "code",
   "execution_count": null,
   "id": "134c96f6-c04e-4bc1-b79d-3b4076fbe51d",
   "metadata": {},
   "outputs": [],
   "source": []
  }
 ],
 "metadata": {
  "kernelspec": {
   "display_name": "20th Century Environment",
   "language": "python",
   "name": "20th_century"
  },
  "language_info": {
   "codemirror_mode": {
    "name": "ipython",
    "version": 3
   },
   "file_extension": ".py",
   "mimetype": "text/x-python",
   "name": "python",
   "nbconvert_exporter": "python",
   "pygments_lexer": "ipython3",
   "version": "3.12.7"
  }
 },
 "nbformat": 4,
 "nbformat_minor": 5
}
