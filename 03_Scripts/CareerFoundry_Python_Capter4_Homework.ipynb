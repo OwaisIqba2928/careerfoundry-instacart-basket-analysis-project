{
 "cells": [
  {
   "cell_type": "markdown",
   "id": "39229b25-38bc-4396-b1ad-61556c4566b3",
   "metadata": {},
   "source": [
    "# Step 1: Import Libraries and Load Data"
   ]
  },
  {
   "cell_type": "code",
   "execution_count": 28,
   "id": "228e9d3e-e812-4146-b150-f2f99ddf2b98",
   "metadata": {},
   "outputs": [
    {
     "name": "stdout",
     "output_type": "stream",
     "text": [
      "   order_id  user_id eval_set  order_number  order_dow  order_hour_of_day  \\\n",
      "0   2539329        1    prior             1          2                  8   \n",
      "1   2398795        1    prior             2          3                  7   \n",
      "2    473747        1    prior             3          3                 12   \n",
      "3   2254736        1    prior             4          4                  7   \n",
      "4    431534        1    prior             5          4                 15   \n",
      "\n",
      "   days_since_prior_order  \n",
      "0                     NaN  \n",
      "1                    15.0  \n",
      "2                    21.0  \n",
      "3                    29.0  \n",
      "4                    28.0  \n",
      "   product_id                                       product_name  aisle_id  \\\n",
      "0           1                         Chocolate Sandwich Cookies        61   \n",
      "1           2                                   All-Seasons Salt       104   \n",
      "2           3               Robust Golden Unsweetened Oolong Tea        94   \n",
      "3           4  Smart Ones Classic Favorites Mini Rigatoni Wit...        38   \n",
      "4           5                          Green Chile Anytime Sauce         5   \n",
      "\n",
      "   department_id  \n",
      "0             19  \n",
      "1             13  \n",
      "2              7  \n",
      "3              1  \n",
      "4             13  \n",
      "   department_id department\n",
      "0              1     frozen\n",
      "1              2      other\n",
      "2              3     bakery\n",
      "3              4    produce\n",
      "4              5    alcohol\n"
     ]
    }
   ],
   "source": [
    "import pandas as pd\n",
    "\n",
    "# Load the datasets\n",
    "orders = pd.read_csv(r'C:\\Users\\Asus\\Music\\CareerFoundry_Python_Session\\orders.csv')\n",
    "products = pd.read_csv(r'C:\\Users\\Asus\\Music\\CareerFoundry_Python_Session\\products.csv')\n",
    "departments = pd.read_csv(r'C:\\Users\\Asus\\Music\\CareerFoundry_Python_Session\\departments.csv')\n",
    "\n",
    "# Display the first few rows of each DataFrame to check the data\n",
    "print(orders.head())\n",
    "print(products.head())\n",
    "print(departments.head())\n"
   ]
  },
  {
   "cell_type": "markdown",
   "id": "11281a6b-9676-430f-9d1c-cd689111c1ed",
   "metadata": {},
   "source": [
    "# Step 2: Explore and Understand Your Data"
   ]
  },
  {
   "cell_type": "code",
   "execution_count": 31,
   "id": "e6d33bc5-d2b7-4ae7-af24-98ef031a4251",
   "metadata": {},
   "outputs": [
    {
     "name": "stdout",
     "output_type": "stream",
     "text": [
      "\n",
      "Missing Values in Orders:\n",
      "order_id                       0\n",
      "user_id                        0\n",
      "eval_set                       0\n",
      "order_number                   0\n",
      "order_dow                      0\n",
      "order_hour_of_day              0\n",
      "days_since_prior_order    206209\n",
      "dtype: int64\n",
      "\n",
      "Missing Values in Products:\n",
      "product_id       0\n",
      "product_name     0\n",
      "aisle_id         0\n",
      "department_id    0\n",
      "dtype: int64\n",
      "\n",
      "Missing Values in Departments:\n",
      "department_id    0\n",
      "department       0\n",
      "dtype: int64\n"
     ]
    }
   ],
   "source": [
    "# Check for missing values in each dataset\n",
    "print(\"\\nMissing Values in Orders:\")\n",
    "print(orders.isnull().sum())\n",
    "print(\"\\nMissing Values in Products:\")\n",
    "print(products.isnull().sum())\n",
    "print(\"\\nMissing Values in Departments:\")\n",
    "print(departments.isnull().sum())"
   ]
  },
  {
   "cell_type": "code",
   "execution_count": 32,
   "id": "29824d4d-5a53-4b90-91eb-400ad81f1a05",
   "metadata": {},
   "outputs": [
    {
     "name": "stdout",
     "output_type": "stream",
     "text": [
      "\n",
      "Data Types in Orders:\n",
      "order_id                    int64\n",
      "user_id                     int64\n",
      "eval_set                   object\n",
      "order_number                int64\n",
      "order_dow                   int64\n",
      "order_hour_of_day           int64\n",
      "days_since_prior_order    float64\n",
      "dtype: object\n",
      "\n",
      "Data Types in Products:\n",
      "product_id        int64\n",
      "product_name     object\n",
      "aisle_id          int64\n",
      "department_id     int64\n",
      "dtype: object\n",
      "\n",
      "Data Types in Departments:\n",
      "department_id     int64\n",
      "department       object\n",
      "dtype: object\n"
     ]
    }
   ],
   "source": [
    "# Check data types of each column\n",
    "print(\"\\nData Types in Orders:\")\n",
    "print(orders.dtypes)\n",
    "print(\"\\nData Types in Products:\")\n",
    "print(products.dtypes)\n",
    "print(\"\\nData Types in Departments:\")\n",
    "print(departments.dtypes)"
   ]
  },
  {
   "cell_type": "markdown",
   "id": "20683b19-6a98-4bba-a439-655374fe56bd",
   "metadata": {},
   "source": [
    " ### Step 3: Merge the Datasets"
   ]
  },
  {
   "cell_type": "code",
   "execution_count": 33,
   "id": "20864796-b986-4acf-bfda-506708260ecc",
   "metadata": {},
   "outputs": [
    {
     "name": "stdout",
     "output_type": "stream",
     "text": [
      "⚠️ Warning: 'product_id' is missing in 'orders.csv'. Skipping orders-products merge.\n"
     ]
    }
   ],
   "source": [
    "# Verify 'product_id' exists in orders before merging\n",
    "if 'product_id' not in orders.columns:\n",
    "    print(\"⚠️ Warning: 'product_id' is missing in 'orders.csv'. Skipping orders-products merge.\")\n",
    "    orders_products_departments = pd.merge(products, departments, on='department_id', how='left')\n",
    "else:\n",
    "    # Merge orders with products\n",
    "    orders_products = pd.merge(orders, products, on='product_id', how='left')\n",
    "    \n",
    "    # Merge the resulting DataFrame with departments\n",
    "    orders_products_departments = pd.merge(orders_products, departments, on='department_id', how='left')\n",
    "    \n",
    "    # Display the merged DataFrame\n",
    "    print(\"\\nMerged Orders + Products + Departments Data:\")\n",
    "    print(orders_products_departments.head())"
   ]
  },
  {
   "cell_type": "markdown",
   "id": "864eab67-fa5b-4d27-a402-986785bdc6e0",
   "metadata": {},
   "source": [
    "### Step 4: Clean the Data"
   ]
  },
  {
   "cell_type": "code",
   "execution_count": 34,
   "id": "fd40f7f5-b00a-45b1-872a-719f19165f00",
   "metadata": {},
   "outputs": [
    {
     "name": "stdout",
     "output_type": "stream",
     "text": [
      "\n",
      "Missing Values After Cleaning:\n",
      "product_id       0\n",
      "product_name     0\n",
      "aisle_id         0\n",
      "department_id    0\n",
      "department       0\n",
      "dtype: int64\n"
     ]
    }
   ],
   "source": [
    "# Fill missing values with 'Unknown'\n",
    "orders_products_departments = orders_products_departments.fillna('Unknown')\n",
    "\n",
    "# Check again for missing values\n",
    "print(\"\\nMissing Values After Cleaning:\")\n",
    "print(orders_products_departments.isnull().sum())"
   ]
  },
  {
   "cell_type": "markdown",
   "id": "012b129f-c709-4533-b065-e9b2a17ef8e3",
   "metadata": {},
   "source": [
    "# Check again for missing values"
   ]
  },
  {
   "cell_type": "code",
   "execution_count": 35,
   "id": "de07ab65-2acd-46a9-ac2a-26b430dadd18",
   "metadata": {},
   "outputs": [
    {
     "name": "stdout",
     "output_type": "stream",
     "text": [
      "\n",
      "Missing Values After Cleaning:\n",
      "product_id       0\n",
      "product_name     0\n",
      "aisle_id         0\n",
      "department_id    0\n",
      "department       0\n",
      "dtype: int64\n"
     ]
    }
   ],
   "source": [
    "print(\"\\nMissing Values After Cleaning:\")\n",
    "print(orders_products_departments.isnull().sum())"
   ]
  },
  {
   "cell_type": "markdown",
   "id": "ebf180ef-d028-491c-8ad4-ef0514ff6ddc",
   "metadata": {},
   "source": [
    "### Step 5: Perform Analysis"
   ]
  },
  {
   "cell_type": "code",
   "execution_count": 42,
   "id": "6b29d262-885d-4901-b6fe-288156a4dab9",
   "metadata": {},
   "outputs": [
    {
     "name": "stdout",
     "output_type": "stream",
     "text": [
      "\n",
      "Descriptive Statistics:\n",
      "         product_id      aisle_id  department_id\n",
      "count  49688.000000  49688.000000   49688.000000\n",
      "mean   24844.500000     67.769582      11.728687\n",
      "std    14343.834425     38.316162       5.850410\n",
      "min        1.000000      1.000000       1.000000\n",
      "25%    12422.750000     35.000000       7.000000\n",
      "50%    24844.500000     69.000000      13.000000\n",
      "75%    37266.250000    100.000000      17.000000\n",
      "max    49688.000000    134.000000      21.000000\n"
     ]
    }
   ],
   "source": [
    "# Display basic statistics for numerical columns\n",
    "print(\"\\nDescriptive Statistics:\")\n",
    "print(orders_products_departments.describe())"
   ]
  },
  {
   "cell_type": "code",
   "execution_count": 44,
   "id": "c8cf8913-0188-48c4-9cf0-c705cc2e2d37",
   "metadata": {},
   "outputs": [
    {
     "name": "stdout",
     "output_type": "stream",
     "text": [
      "Columns in merged DataFrame: Index(['order_id', 'user_id', 'eval_set', 'order_number', 'order_dow',\n",
      "       'order_hour_of_day', 'days_since_prior_order', 'product_id',\n",
      "       'product_name', 'aisle_id', 'department_id', 'department'],\n",
      "      dtype='object')\n",
      "\n",
      "Orders Per Department:\n",
      "         department  order_count\n",
      "0           alcohol         1054\n",
      "1            babies         1081\n",
      "2            bakery         1516\n",
      "3         beverages         4365\n",
      "4         breakfast         1115\n",
      "5              bulk           38\n",
      "6      canned goods         2092\n",
      "7        dairy eggs         3449\n",
      "8              deli         1322\n",
      "9   dry goods pasta         1858\n",
      "10           frozen         4007\n",
      "11        household         3085\n",
      "12    international         1139\n",
      "13     meat seafood          907\n",
      "14          missing         1258\n",
      "15            other          548\n",
      "16           pantry         5371\n",
      "17    personal care         6563\n",
      "18             pets          972\n",
      "19          produce         1684\n",
      "20           snacks         6264\n"
     ]
    }
   ],
   "source": [
    "import pandas as pd\n",
    "\n",
    "# Load CSV files (Update the file paths accordingly)\n",
    "orders = pd.read_csv(\"orders.csv\")\n",
    "products = pd.read_csv(\"products.csv\")\n",
    "departments = pd.read_csv(\"departments.csv\")\n",
    "\n",
    "# Merge products with departments on 'department_id'\n",
    "products_departments = products.merge(departments, on='department_id', how='left')\n",
    "\n",
    "# Merge orders with products_departments on 'product_id'\n",
    "orders_products_departments = orders.merge(products_departments, left_on='order_id', right_on='product_id', how='left')\n",
    "\n",
    "# Check column names before proceeding\n",
    "print(\"Columns in merged DataFrame:\", orders_products_departments.columns)\n",
    "\n",
    "# Ensure columns exist before grouping\n",
    "if 'department' in orders_products_departments.columns and 'order_id' in orders_products_departments.columns:\n",
    "    # Group by department and count the number of orders\n",
    "    department_orders = orders_products_departments.groupby('department')['order_id'].count().reset_index()\n",
    "    \n",
    "    # Rename column for clarity\n",
    "    department_orders = department_orders.rename(columns={'order_id': 'order_count'})\n",
    "\n",
    "    # Display the department orders\n",
    "    print(\"\\nOrders Per Department:\")\n",
    "    print(department_orders)\n",
    "else:\n",
    "    print(\"\\nError: 'department' or 'order_id' column not found. Check merged data.\")"
   ]
  },
  {
   "cell_type": "markdown",
   "id": "f5a8fdb9-3626-456c-8f38-98433c3278a9",
   "metadata": {},
   "source": [
    "### Step 6: Visualization"
   ]
  },
  {
   "cell_type": "code",
   "execution_count": 47,
   "id": "5740e807-a7c5-422f-88ee-bb34b7e4dc4c",
   "metadata": {},
   "outputs": [
    {
     "name": "stderr",
     "output_type": "stream",
     "text": [
      "C:\\Users\\Asus\\AppData\\Local\\Temp\\ipykernel_22860\\1422462778.py:5: FutureWarning: \n",
      "\n",
      "Passing `palette` without assigning `hue` is deprecated and will be removed in v0.14.0. Assign the `y` variable to `hue` and set `legend=False` for the same effect.\n",
      "\n",
      "  sns.barplot(x='order_count', y='department', data=department_orders, palette='viridis')\n"
     ]
    },
    {
     "data": {
      "image/png": "[encoded data removed]",
      "text/plain": [
       "<Figure size 1200x600 with 1 Axes>"
      ]
     },
     "metadata": {},
     "output_type": "display_data"
    }
   ],
   "source": [
    "import matplotlib.pyplot as plt\n",
    "import seaborn as sns\n",
    "# Plot orders per department\n",
    "plt.figure(figsize=(12, 6))\n",
    "sns.barplot(x='order_count', y='department', data=department_orders, palette='viridis')\n",
    "plt.title('Orders per Department')\n",
    "plt.xlabel('Number of Orders')\n",
    "plt.ylabel('Department')\n",
    "plt.show()"
   ]
  },
  {
   "cell_type": "markdown",
   "id": "c446f88a-276d-4502-bb12-bb169746ee8c",
   "metadata": {},
   "source": [
    "### Step 7: Save Cleaned Data"
   ]
  },
  {
   "cell_type": "code",
   "execution_count": 48,
   "id": "94b6c9c0-950e-44f9-8449-eb41169009fe",
   "metadata": {},
   "outputs": [
    {
     "name": "stdout",
     "output_type": "stream",
     "text": [
      "\n",
      "✅ Cleaned data saved successfully to: C:\\Users\\Asus\\Music\\CareerFoundry_Python_Session\\cleaned_orders_data.csv\n"
     ]
    }
   ],
   "source": [
    "# Save the cleaned and merged data to a new CSV file\n",
    "cleaned_data_path = r'C:\\Users\\Asus\\Music\\CareerFoundry_Python_Session\\cleaned_orders_data.csv'\n",
    "orders_products_departments.to_csv(cleaned_data_path, index=False)\n",
    "print(\"\\n✅ Cleaned data saved successfully to:\", cleaned_data_path)"
   ]
  },
  {
   "cell_type": "code",
   "execution_count": null,
   "id": "664cae05-e31d-4fec-a0f4-d43978fef86f",
   "metadata": {},
   "outputs": [],
   "source": []
  }
 ],
 "metadata": {
  "kernelspec": {
   "display_name": "20th Century Environment",
   "language": "python",
   "name": "20th_century"
  },
  "language_info": {
   "codemirror_mode": {
    "name": "ipython",
    "version": 3
   },
   "file_extension": ".py",
   "mimetype": "text/x-python",
   "name": "python",
   "nbconvert_exporter": "python",
   "pygments_lexer": "ipython3",
   "version": "3.12.7"
  }
 },
 "nbformat": 4,
 "nbformat_minor": 5
}
