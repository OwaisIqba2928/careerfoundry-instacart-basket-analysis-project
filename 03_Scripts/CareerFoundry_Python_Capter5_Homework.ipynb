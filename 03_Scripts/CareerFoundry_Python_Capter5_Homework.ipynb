{
 "cells": [
  {
   "cell_type": "markdown",
   "id": "42719b50-e153-4f14-bd28-d596b0c30553",
   "metadata": {},
   "source": [
    "# Step 1: Perform Consistency Checks on df_prods"
   ]
  },
  {
   "cell_type": "code",
   "execution_count": 1,
   "id": "777311c1-f577-4f4b-9995-2e51de9e103d",
   "metadata": {},
   "outputs": [
    {
     "name": "stdout",
     "output_type": "stream",
     "text": [
      "   product_id                                       product_name  aisle_id  \\\n",
      "0           1                         Chocolate Sandwich Cookies        61   \n",
      "1           2                                   All-Seasons Salt       104   \n",
      "2           3               Robust Golden Unsweetened Oolong Tea        94   \n",
      "3           4  Smart Ones Classic Favorites Mini Rigatoni Wit...        38   \n",
      "4           5                          Green Chile Anytime Sauce         5   \n",
      "\n",
      "   department_id  \n",
      "0             19  \n",
      "1             13  \n",
      "2              7  \n",
      "3              1  \n",
      "4             13  \n"
     ]
    }
   ],
   "source": [
    "# Import necessary libraries\n",
    "import pandas as pd\n",
    "import numpy as np\n",
    "\n",
    "# Define the file path\n",
    "file_path = r'C:\\Users\\Asus\\Music\\CareerFoundry_Python_Session\\products.csv'\n",
    "\n",
    "# Load the dataset\n",
    "df_prods = pd.read_csv(file_path)\n",
    "\n",
    "# Display the first few rows to confirm it's loaded correctly\n",
    "print(df_prods.head())\n"
   ]
  },
  {
   "cell_type": "markdown",
   "id": "665de7ba-c1af-4b73-ab13-2bdf728e7c9a",
   "metadata": {},
   "source": [
    "# 1.2 Check for Missing Values"
   ]
  },
  {
   "cell_type": "code",
   "execution_count": 2,
   "id": "2e5a946f-2468-4bf0-89d3-5358d4302263",
   "metadata": {},
   "outputs": [
    {
     "name": "stdout",
     "output_type": "stream",
     "text": [
      "product_id       0\n",
      "product_name     0\n",
      "aisle_id         0\n",
      "department_id    0\n",
      "dtype: int64\n"
     ]
    }
   ],
   "source": [
    "# Check for missing values\n",
    "missing_values_prods = df_prods.isnull().sum()\n",
    "print(missing_values_prods)\n"
   ]
  },
  {
   "cell_type": "markdown",
   "id": "415195f7-76f5-4da5-8d6a-1730aad893d0",
   "metadata": {},
   "source": [
    "# 1.3 Check for Duplicate Values"
   ]
  },
  {
   "cell_type": "code",
   "execution_count": 3,
   "id": "f1725c3f-2843-437f-a9f6-c8c1d554d949",
   "metadata": {},
   "outputs": [
    {
     "name": "stdout",
     "output_type": "stream",
     "text": [
      "0\n"
     ]
    }
   ],
   "source": [
    "# Check for duplicates\n",
    "duplicate_prods = df_prods.duplicated().sum()\n",
    "print(duplicate_prods)\n"
   ]
  },
  {
   "cell_type": "markdown",
   "id": "c0dba590-c281-4402-a4c9-680998ae1a94",
   "metadata": {},
   "source": [
    "# 1.4 Check Data Types"
   ]
  },
  {
   "cell_type": "code",
   "execution_count": 4,
   "id": "9e10446f-bafa-4d0f-8558-ee21007da2d9",
   "metadata": {},
   "outputs": [
    {
     "name": "stdout",
     "output_type": "stream",
     "text": [
      "product_id        int64\n",
      "product_name     object\n",
      "aisle_id          int64\n",
      "department_id     int64\n",
      "dtype: object\n"
     ]
    }
   ],
   "source": [
    "# Check data types\n",
    "data_types_prods = df_prods.dtypes\n",
    "print(data_types_prods)\n"
   ]
  },
  {
   "cell_type": "markdown",
   "id": "b4d0bddd-f8b4-452c-aa90-92e028c36f9c",
   "metadata": {},
   "source": [
    "# Step 2: Run df.describe() on df_ords"
   ]
  },
  {
   "cell_type": "code",
   "execution_count": 7,
   "id": "e65dfd47-4d75-4c12-b059-7c912cd8b922",
   "metadata": {},
   "outputs": [
    {
     "name": "stdout",
     "output_type": "stream",
     "text": [
      "   order_id  user_id eval_set  order_number  order_dow  order_hour_of_day  \\\n",
      "0   2539329        1    prior             1          2                  8   \n",
      "1   2398795        1    prior             2          3                  7   \n",
      "2    473747        1    prior             3          3                 12   \n",
      "3   2254736        1    prior             4          4                  7   \n",
      "4    431534        1    prior             5          4                 15   \n",
      "\n",
      "   days_since_prior_order  product_id product_name  aisle_id  department_id  \\\n",
      "0                     NaN         NaN          NaN       NaN            NaN   \n",
      "1                    15.0         NaN          NaN       NaN            NaN   \n",
      "2                    21.0         NaN          NaN       NaN            NaN   \n",
      "3                    29.0         NaN          NaN       NaN            NaN   \n",
      "4                    28.0         NaN          NaN       NaN            NaN   \n",
      "\n",
      "  department  \n",
      "0        NaN  \n",
      "1        NaN  \n",
      "2        NaN  \n",
      "3        NaN  \n",
      "4        NaN  \n"
     ]
    }
   ],
   "source": [
    "# Import necessary libraries\n",
    "import pandas as pd\n",
    "import os\n",
    "\n",
    "# Define the file path\n",
    "file_path = r'C:\\Users\\Asus\\Music\\CareerFoundry_Python_Session\\cleaned_orders_data.csv'\n",
    "\n",
    "# Load the dataset\n",
    "df_ords = pd.read_csv(file_path, index_col=False)\n",
    "\n",
    "# Display the first 5 rows to confirm successful loading\n",
    "print(df_ords.head())\n"
   ]
  },
  {
   "cell_type": "markdown",
   "id": "d00cf4a9-2cfb-4549-af55-436d48176e1e",
   "metadata": {},
   "source": [
    "# 2.2 Run df.describe()"
   ]
  },
  {
   "cell_type": "code",
   "execution_count": 8,
   "id": "95d48a8f-cbf1-4418-a0d9-9ec70348cc2c",
   "metadata": {},
   "outputs": [
    {
     "name": "stdout",
     "output_type": "stream",
     "text": [
      "           order_id       user_id  order_number     order_dow  \\\n",
      "count  3.421083e+06  3.421083e+06  3.421083e+06  3.421083e+06   \n",
      "mean   1.710542e+06  1.029782e+05  1.715486e+01  2.776219e+00   \n",
      "std    9.875817e+05  5.953372e+04  1.773316e+01  2.046829e+00   \n",
      "min    1.000000e+00  1.000000e+00  1.000000e+00  0.000000e+00   \n",
      "25%    8.552715e+05  5.139400e+04  5.000000e+00  1.000000e+00   \n",
      "50%    1.710542e+06  1.026890e+05  1.100000e+01  3.000000e+00   \n",
      "75%    2.565812e+06  1.543850e+05  2.300000e+01  5.000000e+00   \n",
      "max    3.421083e+06  2.062090e+05  1.000000e+02  6.000000e+00   \n",
      "\n",
      "       order_hour_of_day  days_since_prior_order    product_id      aisle_id  \\\n",
      "count       3.421083e+06            3.214874e+06  49688.000000  49688.000000   \n",
      "mean        1.345202e+01            1.111484e+01  24844.500000     67.769582   \n",
      "std         4.226088e+00            9.206737e+00  14343.834425     38.316162   \n",
      "min         0.000000e+00            0.000000e+00      1.000000      1.000000   \n",
      "25%         1.000000e+01            4.000000e+00  12422.750000     35.000000   \n",
      "50%         1.300000e+01            7.000000e+00  24844.500000     69.000000   \n",
      "75%         1.600000e+01            1.500000e+01  37266.250000    100.000000   \n",
      "max         2.300000e+01            3.000000e+01  49688.000000    134.000000   \n",
      "\n",
      "       department_id  \n",
      "count   49688.000000  \n",
      "mean       11.728687  \n",
      "std         5.850410  \n",
      "min         1.000000  \n",
      "25%         7.000000  \n",
      "50%        13.000000  \n",
      "75%        17.000000  \n",
      "max        21.000000  \n"
     ]
    }
   ],
   "source": [
    "# Run df.describe()\n",
    "describe_ords = df_ords.describe()\n",
    "print(describe_ords)\n"
   ]
  },
  {
   "cell_type": "markdown",
   "id": "3cc91bf1-a618-4629-bbdd-32bd7dac3f5e",
   "metadata": {},
   "source": [
    "# Step 3: Check for Mixed-Type Data"
   ]
  },
  {
   "cell_type": "code",
   "execution_count": 9,
   "id": "d6233bd6-ab16-4bae-9cb2-0cc0612aa184",
   "metadata": {},
   "outputs": [
    {
     "name": "stdout",
     "output_type": "stream",
     "text": [
      "Index(['product_name', 'department'], dtype='object')\n"
     ]
    }
   ],
   "source": [
    "# Check for mixed-type data\n",
    "mixed_type_columns = df_ords.columns[df_ords.apply(lambda col: col.apply(type).nunique() > 1)]\n",
    "print(mixed_type_columns)\n"
   ]
  },
  {
   "cell_type": "markdown",
   "id": "ea21c3d9-1913-47f1-9416-7bbfa1261033",
   "metadata": {},
   "source": [
    "# Step 4: Fix Mixed-Type Data"
   ]
  },
  {
   "cell_type": "code",
   "execution_count": 10,
   "id": "8fc575c9-6608-473f-9b46-7de881c0c966",
   "metadata": {},
   "outputs": [],
   "source": [
    "# Convert mixed-type column to a consistent type\n",
    "df_ords['days_since_prior_order'] = df_ords['days_since_prior_order'].astype(str)\n"
   ]
  },
  {
   "cell_type": "markdown",
   "id": "b2474a7f-0a35-45c3-bf90-9d3928846735",
   "metadata": {},
   "source": [
    "# Step 5: Check for Missing Values in df_ords"
   ]
  },
  {
   "cell_type": "code",
   "execution_count": 11,
   "id": "4fc078c3-0e40-463f-b84f-a530be9d0307",
   "metadata": {},
   "outputs": [
    {
     "name": "stdout",
     "output_type": "stream",
     "text": [
      "order_id                        0\n",
      "user_id                         0\n",
      "eval_set                        0\n",
      "order_number                    0\n",
      "order_dow                       0\n",
      "order_hour_of_day               0\n",
      "days_since_prior_order          0\n",
      "product_id                3371395\n",
      "product_name              3371395\n",
      "aisle_id                  3371395\n",
      "department_id             3371395\n",
      "department                3371395\n",
      "dtype: int64\n"
     ]
    }
   ],
   "source": [
    "# Check for missing values\n",
    "missing_values_ords = df_ords.isnull().sum()\n",
    "print(missing_values_ords)"
   ]
  },
  {
   "cell_type": "markdown",
   "id": "48823588-c83e-4855-9f40-7fad219fafc3",
   "metadata": {},
   "source": [
    "# Step 6: Address Missing Values"
   ]
  },
  {
   "cell_type": "code",
   "execution_count": 13,
   "id": "c03a256d-ba33-405e-a6ff-a6c60e729d55",
   "metadata": {},
   "outputs": [],
   "source": [
    "# Fill missing values with 0 (assuming first orders have no prior orders)\n",
    "df_ords['days_since_prior_order'] = df_ords['days_since_prior_order'].fillna(0)\n",
    "\n"
   ]
  },
  {
   "cell_type": "markdown",
   "id": "f067ca8e-ef1c-4b12-baf9-f697d3dd50fa",
   "metadata": {},
   "source": [
    "# Step 7: Check for Duplicate Values"
   ]
  },
  {
   "cell_type": "code",
   "execution_count": 14,
   "id": "0e9c0aaf-f65f-4b7f-9606-5bbbe06f9740",
   "metadata": {},
   "outputs": [
    {
     "name": "stdout",
     "output_type": "stream",
     "text": [
      "0\n"
     ]
    }
   ],
   "source": [
    "# Check for duplicate values\n",
    "duplicate_ords = df_ords.duplicated().sum()\n",
    "print(duplicate_ords)"
   ]
  },
  {
   "cell_type": "markdown",
   "id": "c3bf8949-508a-4a8a-87a8-bcee25da4ec1",
   "metadata": {},
   "source": [
    "# Step 8: Address Duplicate Values"
   ]
  },
  {
   "cell_type": "code",
   "execution_count": 15,
   "id": "c0708157-4707-46d9-b7e9-be1827c4318e",
   "metadata": {},
   "outputs": [],
   "source": [
    "# Remove duplicate values\n",
    "df_ords.drop_duplicates(inplace=True)\n"
   ]
  },
  {
   "cell_type": "markdown",
   "id": "ff98aff2-9dc7-4c0a-825d-223cfc90bafd",
   "metadata": {},
   "source": [
    "# Step 9: Export the Final Cleaned Data"
   ]
  },
  {
   "cell_type": "code",
   "execution_count": 17,
   "id": "7a194993-cbde-4d8a-ad0e-5c492eecd2ec",
   "metadata": {},
   "outputs": [
    {
     "name": "stdout",
     "output_type": "stream",
     "text": [
      "Cleaned dataset saved successfully!\n"
     ]
    }
   ],
   "source": [
    "# Define export file path\n",
    "export_path = r'C:\\Users\\Asus\\Music\\CareerFoundry_Python_Session\\products_cleaned.csv'\n",
    "\n",
    "# Save the cleaned data to a new CSV file\n",
    "df_prods.to_csv(export_path, index=False)\n",
    "\n",
    "print(\"Cleaned dataset saved successfully!\")\n"
   ]
  },
  {
   "cell_type": "code",
   "execution_count": null,
   "id": "836d6f22-e353-476f-b2f6-edc9991d56a6",
   "metadata": {},
   "outputs": [],
   "source": []
  }
 ],
 "metadata": {
  "kernelspec": {
   "display_name": "20th Century Environment",
   "language": "python",
   "name": "20th_century"
  },
  "language_info": {
   "codemirror_mode": {
    "name": "ipython",
    "version": 3
   },
   "file_extension": ".py",
   "mimetype": "text/x-python",
   "name": "python",
   "nbconvert_exporter": "python",
   "pygments_lexer": "ipython3",
   "version": "3.12.7"
  }
 },
 "nbformat": 4,
 "nbformat_minor": 5
}
